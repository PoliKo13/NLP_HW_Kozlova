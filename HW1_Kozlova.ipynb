{
 "cells": [
  {
   "cell_type": "code",
   "execution_count": 1,
   "metadata": {},
   "outputs": [],
   "source": [
    "import requests\n",
    "from bs4 import BeautifulSoup\n",
    "from fake_useragent import UserAgent\n",
    "from tqdm.auto import tqdm\n",
    "import time\n",
    "from random import randint"
   ]
  },
  {
   "cell_type": "code",
   "execution_count": 2,
   "metadata": {},
   "outputs": [],
   "source": [
    "session = requests.session()\n",
    "ua = UserAgent(verify_ssl=False)"
   ]
  },
  {
   "cell_type": "markdown",
   "metadata": {},
   "source": [
    "### Попытки парсинга, которые получили бан несколько раз и длятся очень долго"
   ]
  },
  {
   "cell_type": "markdown",
   "metadata": {},
   "source": [
    "Проходим по страницам с ноутбуками и собираем ссылки на модели"
   ]
  },
  {
   "cell_type": "code",
   "execution_count": 3,
   "metadata": {},
   "outputs": [],
   "source": [
    "def get_item_links(page_num, item_links):\n",
    "    url = f'https://irecommend.ru/catalog/list/88-227979?page={page_num}'\n",
    "    req = session.get(url, headers={'User-Agent': ua.random})\n",
    "    page = req.text\n",
    "    soup = BeautifulSoup(page, 'html.parser')\n",
    "    page_links = soup.find_all('a', {'class':\"reviewsLink\"})\n",
    "    for l in page_links:\n",
    "        item_links += [l.get('href')]\n",
    "    return item_links"
   ]
  },
  {
   "cell_type": "code",
   "execution_count": 4,
   "metadata": {},
   "outputs": [
    {
     "name": "stdout",
     "output_type": "stream",
     "text": [
      "1000\n"
     ]
    }
   ],
   "source": [
    "item_links = []\n",
    "for n in range(50):\n",
    "    get_item_links(n, item_links)\n",
    "    time.sleep(randint(10,15))\n",
    "print(len(item_links))"
   ]
  },
  {
   "cell_type": "markdown",
   "metadata": {},
   "source": [
    "Проходим по страницам каждой модели и собираем ссылки на отзывы с 1-2 и 5 звёздами (с 1 было мало на той части страниц которая не ломалась)"
   ]
  },
  {
   "cell_type": "code",
   "execution_count": 12,
   "metadata": {},
   "outputs": [],
   "source": [
    "def get_review_links(item, review_links_neg, review_links_pos):\n",
    "    url = f'https://irecommend.ru{item}'\n",
    "    req = session.get(url, headers={'User-Agent': ua.random})\n",
    "    page = req.text\n",
    "    soup = BeautifulSoup(page, 'html.parser')\n",
    "    review_prevs = soup.find_all('div', {'class':\"smTeaser woProduct plate reviews-list-item teaser-item\"})\n",
    "    for prev in review_prevs:\n",
    "        stars = len(prev.find_all('div', {'class':\"on\"}))\n",
    "        if stars == 1 or stars == 2 :\n",
    "            review_links_neg += [prev.find('div', {'class':'reviewTitle'}).find('a').get('href')]\n",
    "        elif stars == 5 and len(review_links_pos) < 50:\n",
    "            review_links_pos += [prev.find('div', {'class':'reviewTitle'}).find('a').get('href')]\n",
    "    return review_links_neg, review_links_pos"
   ]
  },
  {
   "cell_type": "code",
   "execution_count": 14,
   "metadata": {},
   "outputs": [
    {
     "name": "stdout",
     "output_type": "stream",
     "text": [
      "0\n",
      "0\n",
      "0\n",
      "1\n",
      "1\n",
      "1\n",
      "2\n",
      "2\n",
      "2\n",
      "2\n",
      "2\n",
      "2\n",
      "2\n",
      "4\n",
      "4\n",
      "4\n",
      "4\n",
      "4\n",
      "4\n",
      "4\n",
      "4\n",
      "4\n",
      "4\n",
      "5\n",
      "6\n",
      "6\n",
      "6\n",
      "6\n",
      "6\n",
      "6\n",
      "6\n",
      "6\n",
      "6\n",
      "7\n",
      "7\n",
      "7\n",
      "8\n",
      "8\n",
      "11\n",
      "12\n",
      "12\n",
      "12\n",
      "12\n",
      "12\n",
      "12\n",
      "12\n",
      "12\n",
      "12\n",
      "12\n",
      "12\n",
      "12\n",
      "12\n",
      "12\n",
      "13\n",
      "13\n",
      "13\n",
      "13\n",
      "13\n",
      "14\n",
      "14\n",
      "14\n",
      "14\n",
      "15\n",
      "15\n",
      "16\n",
      "16\n",
      "16\n",
      "16\n",
      "16\n",
      "16\n",
      "16\n",
      "16\n",
      "16\n",
      "16\n",
      "19\n",
      "19\n",
      "19\n",
      "19\n",
      "19\n",
      "19\n",
      "19\n",
      "19\n",
      "19\n",
      "19\n",
      "19\n",
      "19\n",
      "21\n",
      "21\n",
      "21\n",
      "21\n",
      "22\n",
      "22\n",
      "22\n",
      "22\n",
      "22\n",
      "22\n",
      "23\n",
      "24\n",
      "24\n",
      "24\n",
      "24\n",
      "24\n",
      "24\n",
      "24\n",
      "24\n",
      "24\n",
      "24\n",
      "24\n",
      "24\n",
      "26\n",
      "26\n",
      "26\n",
      "26\n",
      "26\n",
      "26\n",
      "26\n",
      "26\n",
      "26\n",
      "26\n",
      "26\n",
      "26\n",
      "27\n",
      "27\n",
      "27\n",
      "27\n",
      "27\n",
      "27\n",
      "27\n",
      "27\n",
      "27\n",
      "27\n",
      "27\n",
      "27\n",
      "27\n",
      "27\n",
      "27\n",
      "27\n",
      "27\n",
      "27\n",
      "27\n",
      "27\n",
      "27\n",
      "27\n",
      "27\n",
      "27\n",
      "28\n",
      "28\n",
      "28\n",
      "28\n",
      "28\n",
      "28\n",
      "29\n",
      "29\n",
      "29\n",
      "29\n",
      "29\n",
      "29\n",
      "29\n",
      "29\n",
      "29\n",
      "29\n",
      "29\n",
      "29\n",
      "29\n",
      "29\n",
      "30\n",
      "33\n",
      "33\n",
      "33\n",
      "33\n",
      "33\n",
      "33\n",
      "33\n",
      "33\n",
      "33\n",
      "33\n",
      "33\n",
      "33\n",
      "34\n",
      "34\n",
      "34\n",
      "34\n",
      "34\n",
      "34\n",
      "34\n",
      "34\n",
      "34\n",
      "34\n",
      "34\n",
      "35\n",
      "38\n",
      "39\n",
      "39\n",
      "39\n",
      "39\n",
      "39\n",
      "39\n",
      "39\n",
      "39\n",
      "39\n",
      "39\n",
      "40\n",
      "41\n",
      "41\n",
      "41\n",
      "41\n",
      "42\n",
      "42\n",
      "45\n",
      "45\n",
      "45\n",
      "45\n",
      "45\n",
      "45\n",
      "45\n",
      "45\n",
      "45\n",
      "45\n",
      "45\n",
      "45\n",
      "46\n",
      "46\n",
      "46\n",
      "46\n",
      "46\n",
      "46\n",
      "46\n",
      "46\n",
      "46\n",
      "46\n",
      "46\n",
      "46\n",
      "46\n",
      "46\n",
      "46\n",
      "46\n",
      "48\n",
      "48\n",
      "48\n",
      "48\n",
      "48\n",
      "48\n",
      "48\n",
      "48\n",
      "48\n",
      "48\n",
      "48\n",
      "48\n",
      "48\n",
      "48\n",
      "50\n",
      "52\n",
      "52\n",
      "52\n",
      "52\n",
      "52\n",
      "52\n",
      "52\n",
      "52\n",
      "52\n",
      "52\n",
      "52\n"
     ]
    },
    {
     "ename": "KeyboardInterrupt",
     "evalue": "",
     "output_type": "error",
     "traceback": [
      "\u001b[1;31m---------------------------------------------------------------------------\u001b[0m",
      "\u001b[1;31mKeyboardInterrupt\u001b[0m                         Traceback (most recent call last)",
      "\u001b[1;32m<ipython-input-14-84e724571ffb>\u001b[0m in \u001b[0;36m<module>\u001b[1;34m\u001b[0m\n\u001b[0;32m      6\u001b[0m         \u001b[0mget_review_links\u001b[0m\u001b[1;33m(\u001b[0m\u001b[0mi\u001b[0m\u001b[1;33m,\u001b[0m \u001b[0mreview_links_neg\u001b[0m\u001b[1;33m,\u001b[0m \u001b[0mreview_links_pos\u001b[0m\u001b[1;33m)\u001b[0m\u001b[1;33m\u001b[0m\u001b[1;33m\u001b[0m\u001b[0m\n\u001b[0;32m      7\u001b[0m         \u001b[0mprint\u001b[0m\u001b[1;33m(\u001b[0m\u001b[0mlen\u001b[0m\u001b[1;33m(\u001b[0m\u001b[0mreview_links_neg\u001b[0m\u001b[1;33m)\u001b[0m\u001b[1;33m)\u001b[0m\u001b[1;33m\u001b[0m\u001b[1;33m\u001b[0m\u001b[0m\n\u001b[1;32m----> 8\u001b[1;33m         \u001b[0mtime\u001b[0m\u001b[1;33m.\u001b[0m\u001b[0msleep\u001b[0m\u001b[1;33m(\u001b[0m\u001b[0mrandint\u001b[0m\u001b[1;33m(\u001b[0m\u001b[1;36m10\u001b[0m\u001b[1;33m,\u001b[0m\u001b[1;36m15\u001b[0m\u001b[1;33m)\u001b[0m\u001b[1;33m)\u001b[0m\u001b[1;33m\u001b[0m\u001b[1;33m\u001b[0m\u001b[0m\n\u001b[0m",
      "\u001b[1;31mKeyboardInterrupt\u001b[0m: "
     ]
    }
   ],
   "source": [
    "review_links_neg = []\n",
    "review_links_pos = []\n",
    "\n",
    "for i in item_links:\n",
    "    if len(review_links_neg) < 50:\n",
    "        get_review_links(i, review_links_neg, review_links_pos)\n",
    "        print(len(review_links_neg)) #чтобы знать сколько уже набралось, т.к. негативных меньше\n",
    "        time.sleep(randint(10,15))"
   ]
  },
  {
   "cell_type": "code",
   "execution_count": 21,
   "metadata": {},
   "outputs": [],
   "source": [
    "#на случай если автоматичская скачка сломалась здесь сохранена сработавшая выдача\n",
    "#review_links_neg = ['/content/ne-pokupaite-dannyi-noutbuk-brak-s-zavoda-honor-magicbook-pro-16-r516512', '/content/dolgo-dumaet', '/content/posle-dvukh-nedel-ispolzovaniya-nakrylas-materinskaya-plata', '/content/mog-byt-i-luchshe-26', '/content/nepriyanyi-syurpriz-s-aliekspress-luchshe-100-raz-podumat-nad-pokupkoi', '/content/druzhok-dlya-puteshestvuyushchego-frilansera-kakie-podvodnye-kamni-zhdut-pri-rabote-s-presti', '/content/vybroshennye-dengi-226', '/content/4-iz-10-0', '/content/vse-dostoinstva-perekryvayutsya-glavnym-nedostatkom', '/content/kak-kupit-eshche-odnu-bespoleznuyu-veshch-domoi', '/content/ne-pokupaite-nr', '/content/medlennyi-3', '/content/bystryi-no-slabovidyashchii-wi-fi', '/content/istoriya-o-tom-kak-ya-vybrosila-19000-rublei-na-veter-tochnee-na-pokupku-samogo-tormoznogo-n', '/content/ne-berite-noutbuk-haier-a914-dengi-na-veter-kitaiskii-musor', '/content/moshch-i-krasota-v-legkoi-vesovoi-kategorii', '/content/esli-u-vas-lagayut-igry-kupit-mak-u-vas-budet-lagat-bloknot-i-brauzer', '/content/poletela-matritsa-tsenoi-36-tr-bez-garantii', '/content/nu-tak-sebe-esli-chesto', '/content/noutbuk-lenovo-g50-45-dengi-potrachennye-na-veter', '/content/tolko-dlya-raboty-i-ne-bolee', '/content/ne-dolgo-muzyka-igrala-lenovo-ideapad-320-15ikb', '/content/ne-rekomenduyu-1746', '/content/tam-vse-pyatizvezdochnye-otzyvy-realny-noutbuk-iz-2000-kh', '/content/deshevo-ili-dorogo-noutbuk-acer-aspire-3', '/content/dengi-na-veter-ili-zhe-acer-aspire-3', '/content/noutbuk-kotoryi-razvalilsya-spustya-pol-goda-ispolzovaniya-ne-otzyv-krik-dushi', '/content/greyutsyaremont-po-garantii-bolshe-mesyatsa', '/content/kompyuter-ne-ochenne-sovetuyu', '/content/nikogda-ne-pokupaite-eto-14', '/content/ne-pokupaite-etot-noutbuk-ono-togo-ne-stoit-oshibka-prirody-ne-inache', '/content/posle-trekhrazovoi-pereustanovki-nachal-radovat-nikomu-ne-rekomenduyu', '/content/ochen-khrupkii-i-nezhnyi-tovarishch-etot-vash-lenovo', '/content/samyi-otvratitelnyi-vybor', '/content/ochen-ne-kachestvennyi-noutbuk-chuwi-aerobook-133-dyuima', '/content/noutbuk-asus-kh540s-polnoe-razocharovanie', '/content/ne-stoit-svoikh-deneg-435', '/content/bolshe-nikogda-189', '/content/uzhasnyi-noutbuk', '/content/ne-sovetuyu-1039', '/content/izbavilas-i-rada-luchshe-srazu-kupila-makbuk', '/content/hp-kupi-sebe-asus-x541sa-vragu', '/content/etimi-drovami-tolko-pech-topit-moya-istoriya-vozvrata-noutbuka-posle-goda-ispolzovaniya-foto', '/content/kompaktnyi-kinoteatr-slabye-igry', '/content/etot-noutbuk-ne-rasschitan-na-dolgoe-ispolzovanie-mnogo-nedostatkov', '/content/opisanie-tekhnicheskie-kharakteristiki-vpechatleniya-posle-chetyrekh-mesyatsev-ekspluatatsii', '/content/konchennyi-khlam-kak-i-vsya-deshevaya-produktsiya-iz-podnebesnoi', '/content/stoit-svoikh-deneg-i-ni-kopeiki-bolshe', '/content/eto-prosto-uzhas-103', '/content/ne-pokupaite-etogo-debila']\n",
    "#review_links_pos = ['/content/za-svoyu-stoimost-prosto-topchik-ishchite-nout-dlya-raboty-togda-eto-chto-nuzhno', '/content/optimalnyi-variant-kogda-nuzhen-noutbuk-dlya-raboty-so-zvukom-video-3d-grafiki-i-drugikh-pro', '/content/odobryayu-48', '/content/khoroshii-vybor-dlya-bazovykh-rabot-dlya-doma', '/content/shustrenkii-i-stilnyi', '/content/noutbuk-lenovo-ideapad-gaming-3-15arh05', '/content/posle-nego-ne-smogu-rabotat-na-obychnom-noute', '/content/noutbuk-ne-dlya-vsekh', '/content/moshchnyi-67', '/content/noutbuk-khorosh-za-svoi-dengi', '/content/otlichno-4678', '/content/ofigennyi-dizain-priyatnye-knopki-kachestvo-izobrazheniya-samoe-luchshee', '/content/za-takuyu-tsenu-luchshe-noutbuka-ne-naiti', '/content/chestnyi-otzyv-lenovo-ideapad-330-15ikbr', '/content/moi-pervyi-noutbuk-pervye-vpechatleniya-i-sovety', '/content/otlichnyi-nuotbuk-dlya-raboty', '/content/khoroshii-noutbuk-za-priemlemuyu-tsenu-0', '/content/moshchnaya-mashina-dlya-lyubykh-tselei', '/content/moshchnyi-47', '/content/obnovlennaya-model-honor-magicbook-pro-v-kotoroi-prekrasno-vse-vklyuchenie-za-paru-sekund-po', '/content/luchshe-yavno-ne-budet', '/content/otlichnyi-noutbuk-68', '/content/otsenka-noutbuka-pro-kriteriyam', '/content/luchshii-noutbuk-chto-u-menya-byl', '/content/opyt-vladeniya-noutom-spustya-neskolko-mesyatsev', '/content/noutbuk-v-kotorom-khorosho-pochti-vse', '/content/ne-stoit-somnevatsya', '/content/vernyi-pomoshchnik-33', '/content/gromkie-obeshchaniya-i-nadezhdy-na-nego-v-itoge-chto', '/content/nakonets-mozhno-smotret-filmy-vyvodya-ikh-s-noutbuka-na-televizor-bez-kakogo-libo-kabelya', '/content/podrobnyi-otzyv-na-byudzhetnyi-igrovoi-noutbuk-acer-nitro-5-an515-54-58tj-odin-iz-luchshikh', '/content/igrovoi-noutbuk-ot-acer', '/content/otzyv-na-byudzhetnyi-igrovoi-noutbuk-acer-nitro-5', '/content/neozhidannyi-syurpriz-11', '/content/idealnyi-kompyuter-dlya-dizainera', '/content/klassnyi-631', '/content/igrayu-i-rabotayu-na-noute-acer-nitro5', '/content/super-noutbuk-i-dlya-raboty-i-dlya-ucheby', '/content/noutbuk-acer-nitro-5neplokhoi-tyanet-ochen-mnogo-igr', '/content/prosto-shikarnyi-noutbuk-za-svoi-dengi', '/content/khoroshii-noutbuk-za-svoi-dengi-1', '/content/otlichnyi-noutbuk-igry-2018-2019-goda-na-vysokikh-v-60-fps', '/content/otlichnyi-noutbuk-55', '/content/noutbuk-v-osnovnom-podkhodit-dlya-geiminga', '/content/khoroshee-i-proizvoditel-ne-zhelezo', '/content/lyubimchik-125', '/content/khoroshii-noutbuk-38', '/content/poleznaya-investitsiya-v-rabotu-frilansera-moi-opyt-raboty-s-macbook-pro-retina', '/content/perekhod-s-windows-na-ios-pervye-vpechatleniya-ot-raboty-na-macbook-pro-13-model-s-touch-bar', '/content/nezamenimyi-pomoshchnik-i-vernaya-rabochaya-loshadka-macbook-pro-13-128gb-2017']"
   ]
  },
  {
   "cell_type": "markdown",
   "metadata": {},
   "source": [
    "Проходим по собраным ссылкам и скачиваем текст в две группы (для этого этапа было ограничение в 50 ссылок, чтобы не заняло непомерное время или не забанилось)"
   ]
  },
  {
   "cell_type": "code",
   "execution_count": 22,
   "metadata": {},
   "outputs": [],
   "source": [
    "def get_review(link):\n",
    "    url = f'https://irecommend.ru{link}'\n",
    "    req = session.get(url, headers={'User-Agent': ua.random})\n",
    "    page = req.text\n",
    "    soup = BeautifulSoup(page, 'html.parser')\n",
    "    rev_parts = soup.find_all('p')\n",
    "    review = ''\n",
    "    for r in rev_parts:\n",
    "        review += r.text + ' '\n",
    "    return review"
   ]
  },
  {
   "cell_type": "code",
   "execution_count": 26,
   "metadata": {},
   "outputs": [],
   "source": [
    "reviews_neg = []\n",
    "reviews_pos = []\n",
    "for l in review_links_neg:\n",
    "    reviews_neg += [get_review(l)]\n",
    "    time.sleep(randint(10, 15))\n",
    "for l in review_links_pos:\n",
    "    reviews_pos += [get_review(l)]\n",
    "    time.sleep(randint(10, 15))"
   ]
  },
  {
   "cell_type": "code",
   "execution_count": 38,
   "metadata": {},
   "outputs": [],
   "source": [
    "#reviews_neg = []\n",
    "#reviews_pos = []\n",
    "#cюда можно вставить строки из файла в той же папке, если сломается скачивание"
   ]
  },
  {
   "cell_type": "markdown",
   "metadata": {},
   "source": [
    "### Переходим к созданию базы слов"
   ]
  },
  {
   "cell_type": "code",
   "execution_count": 164,
   "metadata": {},
   "outputs": [],
   "source": [
    "from nltk.corpus import stopwords\n",
    "from nltk.tokenize import word_tokenize\n",
    "russtops = stopwords.words(\"russian\")\n",
    "from pymorphy2 import MorphAnalyzer\n",
    "morph = MorphAnalyzer()\n",
    "from collections import Counter"
   ]
  },
  {
   "cell_type": "markdown",
   "metadata": {},
   "source": [
    "Соединяем все отзывы в один текст, приводим к нижнему регистру, чистим от пунктуации, токенизируем"
   ]
  },
  {
   "cell_type": "code",
   "execution_count": 277,
   "metadata": {},
   "outputs": [],
   "source": [
    "punctuation = list(\"\"\"«»!\"#$%&'()*+,-./:;<=>?@[\\]^_`{|}~.\"\"\")\n",
    "check_pos = reviews_pos[40:]\n",
    "check_neg = reviews_neg[40:]\n",
    "pos = ''.join(reviews_pos[:40]).lower()\n",
    "neg = ''.join(reviews_neg[:40]).lower()\n",
    "for punct in punctuation:\n",
    "    pos = pos.replace(punct, ' ')\n",
    "    neg = neg.replace(punct, ' ')\n",
    "pos_words_all = word_tokenize(pos)\n",
    "neg_words_all = word_tokenize(neg)"
   ]
  },
  {
   "cell_type": "code",
   "execution_count": 278,
   "metadata": {
    "scrolled": true
   },
   "outputs": [
    {
     "data": {
      "text/plain": [
       "['доброе',\n",
       " 'время',\n",
       " 'суток',\n",
       " 'читателям',\n",
       " 'irecommend',\n",
       " 'ru',\n",
       " 'сегодня',\n",
       " 'мне',\n",
       " 'хотелось',\n",
       " 'бы',\n",
       " 'рассказать',\n",
       " 'немного',\n",
       " 'о',\n",
       " 'моем',\n",
       " 'новом']"
      ]
     },
     "execution_count": 278,
     "metadata": {},
     "output_type": "execute_result"
    }
   ],
   "source": [
    "pos_words_all[:15]"
   ]
  },
  {
   "cell_type": "markdown",
   "metadata": {},
   "source": [
    "Приводим слова к начальной форме"
   ]
  },
  {
   "cell_type": "code",
   "execution_count": 279,
   "metadata": {},
   "outputs": [],
   "source": [
    "pos_words_all = [morph.parse(w)[0].normal_form for w in pos_words_all if morph.parse(w)[0].normal_form not in russtops]\n",
    "neg_words_all = [morph.parse(w)[0].normal_form for w in neg_words_all if morph.parse(w)[0].normal_form not in russtops]"
   ]
  },
  {
   "cell_type": "code",
   "execution_count": 280,
   "metadata": {
    "scrolled": true
   },
   "outputs": [
    {
     "data": {
      "text/plain": [
       "['добрый',\n",
       " 'время',\n",
       " 'сутки',\n",
       " 'читатель',\n",
       " 'irecommend',\n",
       " 'ru',\n",
       " 'сегодня',\n",
       " 'хотеться',\n",
       " 'рассказать',\n",
       " 'немного',\n",
       " 'мыть',\n",
       " 'новый',\n",
       " 'ноутбук',\n",
       " 'который',\n",
       " 'приобрести']"
      ]
     },
     "execution_count": 280,
     "metadata": {},
     "output_type": "execute_result"
    }
   ],
   "source": [
    "pos_words_all[:15]"
   ]
  },
  {
   "cell_type": "markdown",
   "metadata": {},
   "source": [
    "Отсекаем нечастотные слова (а так же не_слова)"
   ]
  },
  {
   "cell_type": "code",
   "execution_count": 281,
   "metadata": {},
   "outputs": [],
   "source": [
    "def collect_freq(words, min_freq):\n",
    "    freq = Counter()\n",
    "    new_words = []\n",
    "    for word in words:\n",
    "        freq[word] += 1\n",
    "    for word in freq:\n",
    "        if freq[word] > min_freq and word.isalpha():\n",
    "            new_words += [word]\n",
    "    return new_words"
   ]
  },
  {
   "cell_type": "markdown",
   "metadata": {},
   "source": [
    "Методом научного тыка (на данной выборке иначе никак) выбираем ограничение"
   ]
  },
  {
   "cell_type": "code",
   "execution_count": 354,
   "metadata": {},
   "outputs": [],
   "source": [
    "pos_words = collect_freq(pos_words_all, 8)\n",
    "neg_words = collect_freq(neg_words_all, 8)"
   ]
  },
  {
   "cell_type": "code",
   "execution_count": 366,
   "metadata": {
    "scrolled": false
   },
   "outputs": [
    {
     "data": {
      "text/plain": [
       "['немного',\n",
       " 'полностью',\n",
       " 'acer',\n",
       " 'программа',\n",
       " 'играть',\n",
       " 'установить',\n",
       " 'сложно',\n",
       " 'дюйм',\n",
       " 'идеально',\n",
       " 'процессор',\n",
       " 'частота',\n",
       " 'приятный',\n",
       " 'быстро',\n",
       " 'несколько',\n",
       " 'стандартный']"
      ]
     },
     "execution_count": 366,
     "metadata": {},
     "output_type": "execute_result"
    }
   ],
   "source": [
    "pos_words[:15]"
   ]
  },
  {
   "cell_type": "markdown",
   "metadata": {},
   "source": [
    "Чистим от слов которые встречаются и там и там (на более раннем этапе это делать не стоит, так как всего одно положительное замечание срди негативных отзывов может лишить нас слова-маркера)"
   ]
  },
  {
   "cell_type": "code",
   "execution_count": 356,
   "metadata": {},
   "outputs": [],
   "source": [
    "dupl = []\n",
    "for word in pos_words:\n",
    "    if word in neg_words:\n",
    "        dupl += [word]\n",
    "for d in dupl:\n",
    "    neg_words.remove(d)\n",
    "    pos_words.remove(d)"
   ]
  },
  {
   "cell_type": "code",
   "execution_count": 367,
   "metadata": {},
   "outputs": [
    {
     "data": {
      "text/plain": [
       "118"
      ]
     },
     "execution_count": 367,
     "metadata": {},
     "output_type": "execute_result"
    }
   ],
   "source": [
    "pos_words[:15]\n",
    "len(pos_words)"
   ]
  },
  {
   "cell_type": "code",
   "execution_count": 368,
   "metadata": {
    "scrolled": true
   },
   "outputs": [
    {
     "data": {
      "text/plain": [
       "30"
      ]
     },
     "execution_count": 368,
     "metadata": {},
     "output_type": "execute_result"
    }
   ],
   "source": [
    "neg_words[:15]\n",
    "len(neg_words)"
   ]
  },
  {
   "cell_type": "markdown",
   "metadata": {},
   "source": [
    "### Переходим к оценке отзывов"
   ]
  },
  {
   "cell_type": "markdown",
   "metadata": {},
   "source": [
    "Если среди лемматезированного отзыва встречается больше вхождений маркеров положительности, то отзыв положителен, и наоборот (если их одинаковое количество, то неопределённой или смешанной окраски)"
   ]
  },
  {
   "cell_type": "code",
   "execution_count": 358,
   "metadata": {},
   "outputs": [],
   "source": [
    "def mood_checker(text, pos_words, neg_words):\n",
    "    positivity = 0\n",
    "    negativity = 0\n",
    "    for p in punctuation:\n",
    "        text = text.replace(p, ' ')\n",
    "    text = word_tokenize(text)\n",
    "    text = [morph.parse(w)[0].normal_form for w in text]\n",
    "    for word in text:\n",
    "        if word in pos_words:\n",
    "            positivity += 1\n",
    "        elif word in neg_words:\n",
    "            negativity +=1\n",
    "    if positivity > negativity:\n",
    "        mood = 'positive'\n",
    "    elif negativity > positivity:\n",
    "        mood = 'negative'\n",
    "    else:\n",
    "        mood = 'non or mixed'   \n",
    "    return mood"
   ]
  },
  {
   "cell_type": "markdown",
   "metadata": {},
   "source": [
    "Проверим работу функции на заготовленных 20-ти примерах"
   ]
  },
  {
   "cell_type": "code",
   "execution_count": 359,
   "metadata": {
    "scrolled": true
   },
   "outputs": [
    {
     "name": "stdout",
     "output_type": "stream",
     "text": [
      "['positive', 'positive', 'positive', 'positive', 'positive', 'positive', 'positive', 'positive', 'positive', 'positive']\n",
      "['positive', 'positive', 'positive', 'positive', 'positive', 'positive', 'negative', 'positive', 'positive', 'positive']\n"
     ]
    }
   ],
   "source": [
    "res_for_pos = []\n",
    "res_for_neg = []\n",
    "for rev in check_pos:\n",
    "    res_for_pos += [mood_checker(rev, pos_words, neg_words)]\n",
    "for rev in check_neg:\n",
    "    res_for_neg += [mood_checker(rev, pos_words, neg_words)]\n",
    "    \n",
    "print(res_for_pos)\n",
    "print(res_for_neg)"
   ]
  },
  {
   "cell_type": "markdown",
   "metadata": {},
   "source": [
    "Считаем accuracy"
   ]
  },
  {
   "cell_type": "code",
   "execution_count": 365,
   "metadata": {},
   "outputs": [
    {
     "data": {
      "text/plain": [
       "0.55"
      ]
     },
     "execution_count": 365,
     "metadata": {},
     "output_type": "execute_result"
    }
   ],
   "source": [
    "accuracy = (res_for_pos.count('positive')+ res_for_neg.count('negative'))/20\n",
    "accuracy"
   ]
  },
  {
   "cell_type": "markdown",
   "metadata": {},
   "source": [
    "### Вывод\n",
    "\n",
    "Из теста видно, что функция не справляется с задачей. И этому есть несколько объяснений:\n",
    "1) маленькая выборка\n",
    "которая не позволяет отделить действительно присущие положительной окраске слова от просто случайно оказавшихся частотными в этой выборке (например: названия брендов)\n",
    "2) люди склонны писать смешанные отзывы\n",
    "то есть вполне нормально похвалить модель и сравнить с другой похуже, или похвалить одни качество и осудить другие, которые не повлеяли на общую оценку в силу личных предпочтений, и т.д. и т.п.\n",
    "\n",
    "\n",
    "#### Возможные улучшения\n",
    "\n",
    "- как-то ограничить рассматриваемые в качестве маркеров слова\n",
    "например, использовать только прилагательные и наречия\n",
    "- найти способ обкачки без поломок\n",
    "например, скачивать небольшими сериями с более значительным перерывом между ними (да, это дольше, за то полностью на автомате) или, что ещё практичнее, прописать, что при появлении ошибки доступа надо сделать перерыв, запомнив место остановки, чтобы потом начать с той же ссылки (этот метод быстрее первого, просто несколько мудрёнее в реализации)\n",
    "- смотреть не отдельные слова\n",
    "для этого могут подойти биграммы (или даже триграммы), что позволит нам разделять \"(очень) советую\" и \"не советую\""
   ]
  }
 ],
 "metadata": {
  "kernelspec": {
   "display_name": "Python 3",
   "language": "python",
   "name": "python3"
  },
  "language_info": {
   "codemirror_mode": {
    "name": "ipython",
    "version": 3
   },
   "file_extension": ".py",
   "mimetype": "text/x-python",
   "name": "python",
   "nbconvert_exporter": "python",
   "pygments_lexer": "ipython3",
   "version": "3.8.5"
  }
 },
 "nbformat": 4,
 "nbformat_minor": 4
}
