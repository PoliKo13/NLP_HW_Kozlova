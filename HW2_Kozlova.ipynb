{
 "cells": [
  {
   "cell_type": "markdown",
   "metadata": {},
   "source": [
    "## Сравнение POS-теггеров"
   ]
  },
  {
   "cell_type": "code",
   "execution_count": 1,
   "metadata": {},
   "outputs": [],
   "source": [
    "import nltk\n",
    "from pymystem3 import Mystem\n",
    "m = Mystem()\n",
    "from pymorphy2 import MorphAnalyzer\n",
    "morph = MorphAnalyzer()\n",
    "from pymorphy2.tokenizers import simple_word_tokenize"
   ]
  },
  {
   "cell_type": "code",
   "execution_count": 2,
   "metadata": {},
   "outputs": [],
   "source": [
    "from natasha import (\n",
    "    Segmenter,\n",
    "    NewsEmbedding,\n",
    "    NewsMorphTagger,\n",
    "    Doc\n",
    ")\n",
    "\n",
    "segmenter = Segmenter()\n",
    "\n",
    "emb = NewsEmbedding()\n",
    "morph_tagger = NewsMorphTagger(emb)"
   ]
  },
  {
   "cell_type": "markdown",
   "metadata": {},
   "source": [
    "Текст пришлось написать самостоятельно. Я постаралась добавить в него некоторое количество омоформ, на которых (в силу одинакового написания разных частей речи) должна ломаться разметка."
   ]
  },
  {
   "cell_type": "code",
   "execution_count": 3,
   "metadata": {},
   "outputs": [],
   "source": [
    "text = \"\"\"Сегодня мать и дочь собрались печь пироги. Для первого пирога, яблочного, начинка уже была готова. Поэтому мама начала заниматься тестом, а дочери сказала: \"Мой продукты, только в этот раз не отжимай зелень, очень тебя прошу, просто оставь в сите, чтобы вода стекла.\" Дочь недовольно фыркнула, но сделала как сказали. Когда капуста и зелень были вымыты, а после и нарезаны, дочь спросила у матери: \"В какую миску это ссыпать?\" И получила ответ \"в ту, большую, из стекла\". Пока девушка продолжила заниматься начинкой для капустного пирога, мама уже поставила первый в печь. Теперь она ходила по комнате и что-то искала.\n",
    "- Милая, ты не видела мой телефон? Я хочу засечь время.\n",
    "- Нет, мам. Давай сейчас я поставлю таймер, а телефон потом поищем.\n",
    "Выставив время, они вернулись ко второму пирогу. В этот момент пришёл домой отец.\n",
    "- Как у вас тут вкусно пахнет. Хорошо, что сегодня мне дали уйти пораньше!\n",
    "Тем временем задребезжал таймер.\n",
    "- Доча, посмотри, если края стали золотистыми, то можно вынимать.\n",
    "- Пусть ещё постоит. Мы почти закончили капустник, будем его ставить - вынем яблочный.\n",
    "- Хорошо, значит простой нагретой духовки не придётся устраивать.\n",
    "Через некоторое время с готовкой было покончено. Семья собралась за столом и делились впечатлениями минувшей рабочей недели. Простой пятничный вечер казался почти праздником, настолько вкусные пироги получились.\"\"\"\n",
    "doc = Doc(text)\n",
    "pm_text = simple_word_tokenize(text)"
   ]
  },
  {
   "cell_type": "markdown",
   "metadata": {},
   "source": [
    "Сначала размечаем каждым из разметчиков (избавляемся от пунктуации, где это необходимо) и проверяем, что количество слов получилось одинаковое\n",
    "(для пайморфи сохранён как вариант с первым разбором, так и с неснятой омонимией)"
   ]
  },
  {
   "cell_type": "code",
   "execution_count": 4,
   "metadata": {},
   "outputs": [
    {
     "name": "stdout",
     "output_type": "stream",
     "text": [
      "[['Сегодня', 'ADV'], ['мать', 'NOUN'], ['и', 'CCONJ'], ['дочь', 'NOUN'], ['собрались', 'VERB'], ['печь', 'VERB'], ['пироги', 'NOUN'], ['.', 'PUNCT'], ['Для', 'ADP'], ['первого', 'ADJ'], ['пирога', 'NOUN'], [',', 'PUNCT'], ['яблочного', 'ADJ'], [',', 'PUNCT'], ['начинка', 'NOUN'], ['уже', 'ADV'], ['была', 'AUX'], ['готова', 'ADJ'], ['.', 'PUNCT'], ['Поэтому', 'ADV']]\n"
     ]
    }
   ],
   "source": [
    "doc.segment(segmenter)\n",
    "doc.tag_morph(morph_tagger)\n",
    "natasha_pos = []\n",
    "for w in doc.tokens:\n",
    "    natasha_pos += [[w.text, w.pos]]\n",
    "print(natasha_pos[:20])"
   ]
  },
  {
   "cell_type": "code",
   "execution_count": 5,
   "metadata": {
    "scrolled": true
   },
   "outputs": [
    {
     "name": "stdout",
     "output_type": "stream",
     "text": [
      "205 [['Сегодня', 'ADV'], ['мать', 'NOUN'], ['и', 'CCONJ'], ['дочь', 'NOUN'], ['собрались', 'VERB'], ['печь', 'VERB'], ['пироги', 'NOUN'], ['Для', 'ADP'], ['первого', 'ADJ'], ['пирога', 'NOUN'], ['яблочного', 'ADJ'], ['начинка', 'NOUN'], ['уже', 'ADV'], ['была', 'AUX'], ['готова', 'ADJ'], ['Поэтому', 'ADV'], ['мама', 'NOUN'], ['начала', 'VERB'], ['заниматься', 'VERB'], ['тестом', 'NOUN']]\n"
     ]
    }
   ],
   "source": [
    "for i in range(2):\n",
    "    for w in natasha_pos:\n",
    "        if w[1] == 'PUNCT':\n",
    "            natasha_pos.remove(w)\n",
    "print(len(natasha_pos), natasha_pos[:20])"
   ]
  },
  {
   "cell_type": "code",
   "execution_count": 6,
   "metadata": {},
   "outputs": [
    {
     "name": "stdout",
     "output_type": "stream",
     "text": [
      "268\n"
     ]
    }
   ],
   "source": [
    "pm_pos = []\n",
    "pm_pos_o = []\n",
    "for w in pm_text:\n",
    "    ana = morph.parse(w)\n",
    "    pm_pos += [[ana[0].word, ana[0].tag.POS]]\n",
    "    pm_pos_part = []\n",
    "    for v in ana:\n",
    "        if v.tag.POS not in pm_pos_part:\n",
    "            pm_pos_part += [v.tag.POS]\n",
    "    pm_pos_o += [[ana[0].word, pm_pos_part]]\n",
    "print(len(pm_pos))\n"
   ]
  },
  {
   "cell_type": "code",
   "execution_count": 7,
   "metadata": {},
   "outputs": [
    {
     "name": "stdout",
     "output_type": "stream",
     "text": [
      "205 [['сегодня', 'ADVB'], ['мать', 'NOUN'], ['и', 'CONJ'], ['дочь', 'NOUN'], ['собрались', 'VERB'], ['печь', 'INFN'], ['пироги', 'NOUN'], ['для', 'PREP'], ['первого', 'NOUN'], ['пирога', 'NOUN'], ['яблочного', 'ADJF'], ['начинка', 'NOUN'], ['уже', 'ADVB'], ['была', 'VERB'], ['готова', 'ADJS'], ['поэтому', 'ADVB'], ['мама', 'NOUN'], ['начала', 'NOUN'], ['заниматься', 'INFN'], ['тестом', 'NOUN']]\n",
      "205 [['сегодня', ['ADVB']], ['мать', ['NOUN']], ['и', ['CONJ', 'INTJ', 'PRCL', 'NOUN']], ['дочь', ['NOUN']], ['собрались', ['VERB']], ['печь', ['INFN', 'NOUN']], ['пироги', ['NOUN']], ['для', ['PREP', 'GRND']], ['первого', ['NOUN', 'ADJF']], ['пирога', ['NOUN']], ['яблочного', ['ADJF']], ['начинка', ['NOUN']], ['уже', ['ADVB', 'PRCL', 'NOUN', 'COMP']], ['была', ['VERB']], ['готова', ['ADJS']], ['поэтому', ['ADVB']], ['мама', ['NOUN']], ['начала', ['NOUN', 'VERB']], ['заниматься', ['INFN']], ['тестом', ['NOUN']]]\n"
     ]
    }
   ],
   "source": [
    "for i in range(2):\n",
    "    for w in pm_pos:\n",
    "        if w[1] == None:\n",
    "            pm_pos.remove(w)\n",
    "\n",
    "    for w in pm_pos_o:\n",
    "        if w[1] == [None]:\n",
    "            pm_pos_o.remove(w)\n",
    "print(len(pm_pos), pm_pos[:20])\n",
    "print(len(pm_pos_o), pm_pos_o[:20])"
   ]
  },
  {
   "cell_type": "code",
   "execution_count": 8,
   "metadata": {},
   "outputs": [
    {
     "name": "stdout",
     "output_type": "stream",
     "text": [
      "205\n"
     ]
    }
   ],
   "source": [
    "analyz = m.analyze(text)\n",
    "mystem_pos = []\n",
    "for w in analyz:\n",
    "    if 'analysis' in w:\n",
    "        pos = w['analysis'][0]['gr']\n",
    "        pos = pos.split('=')[0].split(',')[0]\n",
    "        mystem_pos += [[w['text'], pos]]\n",
    "print(len(mystem_pos))"
   ]
  },
  {
   "cell_type": "code",
   "execution_count": 9,
   "metadata": {},
   "outputs": [
    {
     "name": "stdout",
     "output_type": "stream",
     "text": [
      "205 [['Сегодня', 'ADV'], ['мать', 'S'], ['и', 'CONJ'], ['дочь', 'S'], ['собрались', 'V'], ['печь', 'S'], ['пироги', 'S'], ['Для', 'PR'], ['первого', 'ANUM'], ['пирога', 'S'], ['яблочного', 'A'], ['начинка', 'S'], ['уже', 'ADV'], ['была', 'V'], ['готова', 'A'], ['Поэтому', 'ADVPRO'], ['мама', 'S'], ['начала', 'V'], ['заниматься', 'V'], ['тестом', 'S']]\n"
     ]
    }
   ],
   "source": [
    "print(len(mystem_pos), mystem_pos[:20])"
   ]
  },
  {
   "cell_type": "markdown",
   "metadata": {},
   "source": [
    "Приводим теги к общему набору, который использовался в разметке стандарта"
   ]
  },
  {
   "cell_type": "code",
   "execution_count": 10,
   "metadata": {},
   "outputs": [],
   "source": [
    "for w in natasha_pos:\n",
    "    if w[1] == 'AUX':\n",
    "        w[1] = 'VERB'\n",
    "    elif w[1] in ['CCONJ','SCONJ']:\n",
    "        w[1] = 'CONJ'\n",
    "    elif w[1] == 'DET':\n",
    "        w[1] = 'APRO'"
   ]
  },
  {
   "cell_type": "code",
   "execution_count": 11,
   "metadata": {},
   "outputs": [
    {
     "name": "stdout",
     "output_type": "stream",
     "text": [
      "[['Сегодня', 'ADV'], ['мать', 'NOUN'], ['и', 'CONJ'], ['дочь', 'NOUN'], ['собрались', 'VERB'], ['печь', 'VERB'], ['пироги', 'NOUN'], ['Для', 'ADP'], ['первого', 'ADJ'], ['пирога', 'NOUN'], ['яблочного', 'ADJ'], ['начинка', 'NOUN'], ['уже', 'ADV'], ['была', 'VERB'], ['готова', 'ADJ'], ['Поэтому', 'ADV'], ['мама', 'NOUN'], ['начала', 'VERB'], ['заниматься', 'VERB'], ['тестом', 'NOUN']]\n"
     ]
    }
   ],
   "source": [
    "print(natasha_pos[:20])"
   ]
  },
  {
   "cell_type": "code",
   "execution_count": 12,
   "metadata": {},
   "outputs": [],
   "source": [
    "for w in pm_pos:\n",
    "    if w[1] == 'ADVB':\n",
    "        w[1] = 'ADV'\n",
    "    elif w[1] in ['ADJF','ADJS']:\n",
    "        w[1] = 'ADJ'\n",
    "    elif w[1] in ['INFN','GRND','PRTF','PRTS']:\n",
    "        w[1] = 'VERB'\n",
    "    elif w[1] == 'NPRO':\n",
    "        w[1] = 'PRON'\n",
    "    elif w[1] == 'PREP':\n",
    "        w[1] = 'ADP'\n",
    "    elif w[1] == 'PRCL':\n",
    "        w[1] = 'PART'\n",
    "\n",
    "for w in pm_pos_o:\n",
    "    for t in range(len(w[1])):\n",
    "        if w[1][t] == 'ADVB':\n",
    "            w[1][t] = 'ADV'\n",
    "        elif w[1][t] in ['ADJF','ADJS']:\n",
    "            w[1][t] = 'ADJ'\n",
    "        elif w[1][t] in ['INFN','GRND','PRTF','PRTS']:\n",
    "            w[1][t] = 'VERB'\n",
    "        elif w[1][t] == 'NPRO':\n",
    "            w[1][t] = 'PRON'\n",
    "        elif w[1][t] == 'PREP':\n",
    "            w[1][t] = 'ADP'\n",
    "        elif w[1][t] == 'PRCL':\n",
    "            w[1][t] = 'PART'"
   ]
  },
  {
   "cell_type": "code",
   "execution_count": 13,
   "metadata": {
    "scrolled": true
   },
   "outputs": [
    {
     "name": "stdout",
     "output_type": "stream",
     "text": [
      "[['сегодня', 'ADV'], ['мать', 'NOUN'], ['и', 'CONJ'], ['дочь', 'NOUN'], ['собрались', 'VERB'], ['печь', 'VERB'], ['пироги', 'NOUN'], ['для', 'ADP'], ['первого', 'NOUN'], ['пирога', 'NOUN'], ['яблочного', 'ADJ'], ['начинка', 'NOUN'], ['уже', 'ADV'], ['была', 'VERB'], ['готова', 'ADJ'], ['поэтому', 'ADV'], ['мама', 'NOUN'], ['начала', 'NOUN'], ['заниматься', 'VERB'], ['тестом', 'NOUN']]\n",
      "[['сегодня', ['ADV']], ['мать', ['NOUN']], ['и', ['CONJ', 'INTJ', 'PART', 'NOUN']], ['дочь', ['NOUN']], ['собрались', ['VERB']], ['печь', ['VERB', 'NOUN']], ['пироги', ['NOUN']], ['для', ['ADP', 'VERB']], ['первого', ['NOUN', 'ADJ']], ['пирога', ['NOUN']], ['яблочного', ['ADJ']], ['начинка', ['NOUN']], ['уже', ['ADV', 'PART', 'NOUN', 'COMP']], ['была', ['VERB']], ['готова', ['ADJ']], ['поэтому', ['ADV']], ['мама', ['NOUN']], ['начала', ['NOUN', 'VERB']], ['заниматься', ['VERB']], ['тестом', ['NOUN']]]\n"
     ]
    }
   ],
   "source": [
    "print(pm_pos[:20])\n",
    "print(pm_pos_o[:20])"
   ]
  },
  {
   "cell_type": "code",
   "execution_count": 20,
   "metadata": {},
   "outputs": [],
   "source": [
    "for w in mystem_pos:\n",
    "    if w[1] in ['A', 'ANUM']:\n",
    "        w[1] = 'ADJ'\n",
    "    elif w[1] == 'S':\n",
    "        w[1] = 'NOUN'\n",
    "    elif w[1] == 'PR':\n",
    "        w[1] = 'ADP'\n",
    "    elif w[1] == 'SPRO':\n",
    "        w[1] = 'PRON'\n",
    "    elif w[1] == 'V':\n",
    "        w[1] = 'VERB' \n",
    "    elif w[1] == 'ADVPRO':\n",
    "        w[1] = 'ADV'"
   ]
  },
  {
   "cell_type": "code",
   "execution_count": 21,
   "metadata": {},
   "outputs": [
    {
     "name": "stdout",
     "output_type": "stream",
     "text": [
      "[['Сегодня', 'ADV'], ['мать', 'NOUN'], ['и', 'CONJ'], ['дочь', 'NOUN'], ['собрались', 'VERB'], ['печь', 'NOUN'], ['пироги', 'NOUN'], ['Для', 'ADP'], ['первого', 'ADJ'], ['пирога', 'NOUN'], ['яблочного', 'ADJ'], ['начинка', 'NOUN'], ['уже', 'ADV'], ['была', 'VERB'], ['готова', 'ADJ'], ['Поэтому', 'ADV'], ['мама', 'NOUN'], ['начала', 'VERB'], ['заниматься', 'VERB'], ['тестом', 'NOUN']]\n"
     ]
    }
   ],
   "source": [
    "print(mystem_pos[:20])"
   ]
  },
  {
   "cell_type": "markdown",
   "metadata": {},
   "source": [
    "Импортируем таблицу со стандартом и смотрим, есть ли вхождение верных тегов по словам"
   ]
  },
  {
   "cell_type": "code",
   "execution_count": 16,
   "metadata": {},
   "outputs": [],
   "source": [
    "import csv"
   ]
  },
  {
   "cell_type": "code",
   "execution_count": 17,
   "metadata": {},
   "outputs": [
    {
     "name": "stdout",
     "output_type": "stream",
     "text": [
      "[['Сегодня', ['ADV']], ['мать', ['NOUN']], ['и', ['CONJ']], ['дочь', ['NOUN']], ['собрались', ['VERB']], ['печь', ['VERB']], ['пироги', ['NOUN']], ['Для', ['ADP']], ['первого', ['ADJ']], ['пирога', ['NOUN']], ['яблочного', ['ADJ']], ['начинка', ['NOUN']], ['уже', ['ADV']], ['была', ['VERB']], ['готова', ['ADJ']], ['Поэтому', ['ADV']], ['мама', ['NOUN']], ['начала', ['VERB']], ['заниматься', ['VERB']], ['тестом', ['NOUN']]] 205\n"
     ]
    }
   ],
   "source": [
    "with open('pos_text_hw2.csv', newline='', encoding='UTF-8') as f:\n",
    "    standart = list(csv.reader(f))\n",
    "\n",
    "for s in standart:\n",
    "    s[1] = s[1].split(',')\n",
    "print(standart[:20], len(standart))"
   ]
  },
  {
   "cell_type": "code",
   "execution_count": 22,
   "metadata": {
    "scrolled": true
   },
   "outputs": [
    {
     "name": "stdout",
     "output_type": "stream",
     "text": [
      "['печь', ['VERB']] NOUN mystem\n",
      "['первого', ['ADJ']] NOUN pymorphy\n",
      "['начала', ['VERB']] NOUN pymorphy\n",
      "['Мой', ['VERB']] APRO natasha\n",
      "['Мой', ['VERB']] ADJ pymorphy\n",
      "['Мой', ['VERB']] APRO mystem\n",
      "['только', ['ADV']] PART natasha\n",
      "['только', ['ADV']] PART pymorphy\n",
      "['только', ['ADV']] ['PART', 'CONJ'] pymorphy with o\n",
      "['только', ['ADV']] PART mystem\n",
      "['этот', ['APRO']] ADJ pymorphy\n",
      "['этот', ['APRO']] ['ADJ'] pymorphy with o\n",
      "['просто', ['ADV']] PART natasha\n",
      "['просто', ['ADV']] PART pymorphy\n",
      "['просто', ['ADV']] PART mystem\n",
      "['стекла', ['VERB']] NOUN natasha\n",
      "['стекла', ['VERB']] NOUN pymorphy\n",
      "['стекла', ['VERB']] NOUN mystem\n",
      "['недовольно', ['ADV']] ADJ natasha\n",
      "['недовольно', ['ADV']] ADJ pymorphy\n",
      "['фыркнула', ['VERB']] NOUN natasha\n",
      "['после', ['ADP']] ADV natasha\n",
      "['и', ['PART']] CONJ natasha\n",
      "['и', ['PART']] CONJ pymorphy\n",
      "['и', ['PART']] CONJ mystem\n",
      "['нарезаны', ['VERB']] NOUN natasha\n",
      "['это', ['PRON']] PART pymorphy\n",
      "['это', ['PRON']] PART mystem\n",
      "['ссыпать', ['VERB']] NOUN natasha\n",
      "['ту', ['APRO']] ADJ pymorphy\n",
      "['ту', ['APRO']] ['ADJ'] pymorphy with o\n",
      "['Пока', ['CONJ']] ADV natasha\n",
      "['Пока', ['CONJ']] ADV pymorphy\n",
      "['печь', ['NOUN']] VERB pymorphy\n",
      "['мой', ['APRO']] ADJ pymorphy\n",
      "['мой', ['APRO']] ['ADJ', 'VERB'] pymorphy with o\n",
      "['Нет', ['PART']] PRED pymorphy\n",
      "['Давай', ['PART']] VERB natasha\n",
      "['Давай', ['PART']] VERB pymorphy\n",
      "['Давай', ['PART']] ['VERB'] pymorphy with o\n",
      "['Давай', ['PART']] VERB mystem\n",
      "['второму', ['ADJ']] NOUN pymorphy\n",
      "['этот', ['APRO']] ADJ pymorphy\n",
      "['этот', ['APRO']] ['ADJ'] pymorphy with o\n",
      "['Как', ['ADV']] CONJ pymorphy\n",
      "['Хорошо', ['ADV']] ADJ natasha\n",
      "['пораньше', ['ADV', 'ADJ']] COMP pymorphy\n",
      "['пораньше', ['ADV', 'ADJ']] ['COMP'] pymorphy with o\n",
      "['Тем', ['APRO']] CONJ pymorphy\n",
      "['Тем', ['APRO']] ['CONJ', 'ADJ', 'NOUN'] pymorphy with o\n",
      "['Доча', ['NOUN']] PROPN natasha\n",
      "['Доча', ['NOUN']] VERB pymorphy\n",
      "['золотистыми', ['ADJ']] NOUN natasha\n",
      "['Пусть', ['PART']] CONJ pymorphy\n",
      "['вынем', ['VERB']] ADJ natasha\n",
      "['яблочный', ['ADJ']] NOUN natasha\n",
      "['Хорошо', ['ADV']] ADJ natasha\n",
      "['значит', ['VERB']] CONJ pymorphy\n",
      "['значит', ['VERB']] ADV mystem\n",
      "['простой', ['NOUN']] ADJ natasha\n",
      "['простой', ['NOUN']] ADJ mystem\n",
      "['нагретой', ['ADJ']] VERB pymorphy\n",
      "['нагретой', ['ADJ']] ['VERB'] pymorphy with o\n",
      "['нагретой', ['ADJ']] VERB mystem\n",
      "['некоторое', ['APRO']] ADJ pymorphy\n",
      "['некоторое', ['APRO']] ['ADJ'] pymorphy with o\n",
      "['Простой', ['ADJ']] NOUN pymorphy\n"
     ]
    }
   ],
   "source": [
    "natasha_score = 0\n",
    "pm_score = 0\n",
    "pm_o_score = 0\n",
    "mystem_score = 0\n",
    "for s in range(len(standart)):\n",
    "    if set(standart[s][1])&set([natasha_pos[s][1]]):\n",
    "        natasha_score += 1\n",
    "    else:\n",
    "        print(standart[s], natasha_pos[s][1], 'natasha')\n",
    "    if set(standart[s][1])&set([pm_pos[s][1]]):\n",
    "        pm_score += 1\n",
    "    else:\n",
    "        print(standart[s], pm_pos[s][1], 'pymorphy')\n",
    "    if set(standart[s][1])&set(pm_pos_o[s][1]):\n",
    "        pm_o_score += 1\n",
    "    else:\n",
    "        print(standart[s], pm_pos_o[s][1], 'pymorphy with o')\n",
    "    if set(standart[s][1])&set([mystem_pos[s][1]]):\n",
    "        mystem_score += 1\n",
    "    else:\n",
    "        print(standart[s], mystem_pos[s][1], 'mystem')"
   ]
  },
  {
   "cell_type": "markdown",
   "metadata": {},
   "source": [
    "Считаем точность разметки"
   ]
  },
  {
   "cell_type": "code",
   "execution_count": 23,
   "metadata": {},
   "outputs": [
    {
     "name": "stdout",
     "output_type": "stream",
     "text": [
      "0.9073170731707317 0.8682926829268293 0.9512195121951219 0.9463414634146341\n"
     ]
    }
   ],
   "source": [
    "acc_natasha = natasha_score/len(standart)\n",
    "acc_pm = pm_score/len(standart)\n",
    "acc_pm_o = pm_o_score/len(standart)\n",
    "acc_mystem = mystem_score/len(standart)\n",
    "\n",
    "print(acc_natasha, acc_pm, acc_pm_o, acc_mystem)"
   ]
  },
  {
   "cell_type": "markdown",
   "metadata": {},
   "source": [
    "Pymorphy с неснятой омонимией, хоть и доказал, что чаще всего имеет достаточно типов разбора, чтобы один из них оказывался верным, тем не менее невозможен для дальнейшей работы, так как контекст не учитывает и, соответственно, предлагает невозможные комбинации рядом стоящих тегов\n",
    "\n",
    "Мы же возьмём снимающий омонимию и находящийся на следующем месте по количеству верных ответов вариант - mystem\n",
    "(этот итог был достаточно предсказуем, так как его способность снимать частеречную омонимию известна, пусть он и не со всеми случаями справился в этот раз)"
   ]
  },
  {
   "cell_type": "markdown",
   "metadata": {},
   "source": [
    "Используя разметку mystem, которая показала себя с лучшей стороны, ищем би- и три-граммы"
   ]
  },
  {
   "cell_type": "code",
   "execution_count": 42,
   "metadata": {},
   "outputs": [],
   "source": [
    "def chunker_3(tw_1, tw_2, tw_3, text_pos):\n",
    "    chunk_list = []\n",
    "    for w in range(len(text_pos)-2):\n",
    "        if (text_pos[w][1] in tw_1 or text_pos[w][0] in tw_1) and (text_pos[w+1][1] in tw_2 or text_pos[w+1][0] in tw_2) and (text_pos[w+2][1] in tw_3 or text_pos[w+2][0] in tw_3):\n",
    "            chunk = [text_pos[w][0], text_pos[w+1][0], text_pos[w+2][0]]\n",
    "            chunk_list += [chunk]\n",
    "    return chunk_list            "
   ]
  },
  {
   "cell_type": "code",
   "execution_count": 43,
   "metadata": {},
   "outputs": [],
   "source": [
    "noun_conj_s = chunker_3('NOUN','и','NOUN', mystem_pos)"
   ]
  },
  {
   "cell_type": "code",
   "execution_count": 44,
   "metadata": {},
   "outputs": [
    {
     "data": {
      "text/plain": [
       "[['мать', 'и', 'дочь'], ['капуста', 'и', 'зелень']]"
      ]
     },
     "execution_count": 44,
     "metadata": {},
     "output_type": "execute_result"
    }
   ],
   "source": [
    "noun_conj_s"
   ]
  },
  {
   "cell_type": "code",
   "execution_count": 45,
   "metadata": {},
   "outputs": [],
   "source": [
    "v_v_s = chunker_3('VERB', 'VERB', ['NOUN', 'ADJ', 'ADV'], mystem_pos)"
   ]
  },
  {
   "cell_type": "code",
   "execution_count": 46,
   "metadata": {},
   "outputs": [
    {
     "data": {
      "text/plain": [
       "[['начала', 'заниматься', 'тестом'],\n",
       " ['продолжила', 'заниматься', 'начинкой'],\n",
       " ['хочу', 'засечь', 'время'],\n",
       " ['поищем', 'Выставив', 'время'],\n",
       " ['дали', 'уйти', 'пораньше'],\n",
       " ['ставить', 'вынем', 'яблочный'],\n",
       " ['было', 'покончено', 'Семья']]"
      ]
     },
     "execution_count": 46,
     "metadata": {},
     "output_type": "execute_result"
    }
   ],
   "source": [
    "v_v_s"
   ]
  },
  {
   "cell_type": "code",
   "execution_count": 49,
   "metadata": {},
   "outputs": [],
   "source": [
    "def chunker_2(tw_1, tw_2, text_pos):\n",
    "    chunk_list = []\n",
    "    for w in range(len(text_pos)-1):\n",
    "        if (text_pos[w][1] in tw_1 or text_pos[w][0] in tw_1) and (text_pos[w+1][1] in tw_2 or text_pos[w+1][0] in tw_2):\n",
    "            chunk = [text_pos[w][0], text_pos[w+1][0]]\n",
    "            chunk_list += [chunk]\n",
    "    return chunk_list\n",
    "    "
   ]
  },
  {
   "cell_type": "code",
   "execution_count": 50,
   "metadata": {},
   "outputs": [],
   "source": [
    "adj_noun = chunker_2('ADJ', 'NOUN', mystem_pos)"
   ]
  },
  {
   "cell_type": "code",
   "execution_count": 51,
   "metadata": {},
   "outputs": [
    {
     "data": {
      "text/plain": [
       "[['первого', 'пирога'],\n",
       " ['яблочного', 'начинка'],\n",
       " ['капустного', 'пирога'],\n",
       " ['второму', 'пирогу'],\n",
       " ['рабочей', 'недели'],\n",
       " ['пятничный', 'вечер'],\n",
       " ['вкусные', 'пироги']]"
      ]
     },
     "execution_count": 51,
     "metadata": {},
     "output_type": "execute_result"
    }
   ],
   "source": [
    "adj_noun"
   ]
  },
  {
   "cell_type": "code",
   "execution_count": null,
   "metadata": {},
   "outputs": [],
   "source": []
  }
 ],
 "metadata": {
  "kernelspec": {
   "display_name": "Python 3",
   "language": "python",
   "name": "python3"
  },
  "language_info": {
   "codemirror_mode": {
    "name": "ipython",
    "version": 3
   },
   "file_extension": ".py",
   "mimetype": "text/x-python",
   "name": "python",
   "nbconvert_exporter": "python",
   "pygments_lexer": "ipython3",
   "version": "3.8.5"
  }
 },
 "nbformat": 4,
 "nbformat_minor": 4
}
